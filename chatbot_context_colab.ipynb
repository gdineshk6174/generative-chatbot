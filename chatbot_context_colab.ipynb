{
  "nbformat": 4,
  "nbformat_minor": 0,
  "metadata": {
    "kernelspec": {
      "language": "python",
      "display_name": "Python 3",
      "name": "python3"
    },
    "language_info": {
      "pygments_lexer": "ipython3",
      "nbconvert_exporter": "python",
      "version": "3.6.4",
      "file_extension": ".py",
      "codemirror_mode": {
        "name": "ipython",
        "version": 3
      },
      "name": "python",
      "mimetype": "text/x-python"
    },
    "colab": {
      "name": "chatbot_context_final1.ipynb",
      "provenance": []
    }
  },
  "cells": [
    {
      "cell_type": "code",
      "metadata": {
        "_uuid": "8f2839f25d086af736a60e9eeb907d3b93b6e0e5",
        "_cell_guid": "b1076dfc-b9ad-4769-8c92-a6c4dae69d19",
        "trusted": true,
        "id": "mABCEmPmrL__",
        "colab_type": "code",
        "colab": {},
        "outputId": "9e29737c-f384-4df2-dbe3-0435919735a8"
      },
      "source": [
        "# This Python 3 environment comes with many helpful analytics libraries installed\n",
        "# It is defined by the kaggle/python docker image: https://github.com/kaggle/docker-python\n",
        "# For example, here's several helpful packages to load in \n",
        "\n",
        "import numpy as np # linear algebra\n",
        "import pandas as pd # data processing, CSV file I/O (e.g. pd.read_csv)\n",
        "\n",
        "# Input data files are available in the \"../input/\" directory.\n",
        "# For example, running this (by clicking run or pressing Shift+Enter) will list all files under the input directory\n",
        "\n",
        "import os\n",
        "for dirname, _, filenames in os.walk('/kaggle/input'):\n",
        "    for filename in filenames:\n",
        "        print(os.path.join(dirname, filename))\n",
        "\n",
        "# Any results you write to the current directory are saved as output."
      ],
      "execution_count": 0,
      "outputs": [
        {
          "output_type": "stream",
          "text": [
            "/kaggle/input/frames/frames.json\n"
          ],
          "name": "stdout"
        }
      ]
    },
    {
      "cell_type": "code",
      "metadata": {
        "_uuid": "d629ff2d2480ee46fbb7e2d37f6b5fab8052498a",
        "_cell_guid": "79c7e3d0-c299-4dcb-8224-4455121ee9b0",
        "trusted": true,
        "id": "1zD3k-4mrMAI",
        "colab_type": "code",
        "colab": {},
        "outputId": "6ddccb72-6c6f-45be-ae63-11759e8229c6"
      },
      "source": [
        "df = pd.read_json('../input/frames/frames.json')\n",
        "df.head()"
      ],
      "execution_count": 0,
      "outputs": [
        {
          "output_type": "execute_result",
          "data": {
            "text/plain": [
              "     user_id                                              turns  wizard_id  \\\n",
              "0  U22HTHYNP  [{'text': 'I'd like to book a trip to Atlantis...  U21DKG18C   \n",
              "1  U21E41CQP  [{'text': 'Hello, I am looking to book a vacat...  U21DMV0KA   \n",
              "2  U21RP4FCY  [{'text': 'Hello there i am looking to go on a...  U21E0179B   \n",
              "3  U22HTHYNP  [{'text': 'Hi I'd like to go to Caprica from B...  U21DKG18C   \n",
              "4  U21E41CQP  [{'text': 'Hello, I am looking to book a trip ...  U21DMV0KA   \n",
              "\n",
              "                                     id  \\\n",
              "0  e2c0fc6c-2134-4891-8353-ef16d8412c9a   \n",
              "1  4a3bfa39-2c22-42c8-8694-32b4e34415e9   \n",
              "2  6e67ed28-e94c-4fab-96b6-68569a92682f   \n",
              "3  5ae76e50-5b48-4166-9f6d-67aaabd7bcaa   \n",
              "4  24603086-bb53-431e-a0d8-1dcc63518ba9   \n",
              "\n",
              "                                              labels  \n",
              "0  {'userSurveyRating': 4.0, 'wizardSurveyTaskSuc...  \n",
              "1  {'userSurveyRating': 3.0, 'wizardSurveyTaskSuc...  \n",
              "2  {'userSurveyRating': 2.0, 'wizardSurveyTaskSuc...  \n",
              "3  {'userSurveyRating': 5.0, 'wizardSurveyTaskSuc...  \n",
              "4  {'userSurveyRating': 5.0, 'wizardSurveyTaskSuc...  "
            ],
            "text/html": [
              "<div>\n",
              "<style scoped>\n",
              "    .dataframe tbody tr th:only-of-type {\n",
              "        vertical-align: middle;\n",
              "    }\n",
              "\n",
              "    .dataframe tbody tr th {\n",
              "        vertical-align: top;\n",
              "    }\n",
              "\n",
              "    .dataframe thead th {\n",
              "        text-align: right;\n",
              "    }\n",
              "</style>\n",
              "<table border=\"1\" class=\"dataframe\">\n",
              "  <thead>\n",
              "    <tr style=\"text-align: right;\">\n",
              "      <th></th>\n",
              "      <th>user_id</th>\n",
              "      <th>turns</th>\n",
              "      <th>wizard_id</th>\n",
              "      <th>id</th>\n",
              "      <th>labels</th>\n",
              "    </tr>\n",
              "  </thead>\n",
              "  <tbody>\n",
              "    <tr>\n",
              "      <th>0</th>\n",
              "      <td>U22HTHYNP</td>\n",
              "      <td>[{'text': 'I'd like to book a trip to Atlantis...</td>\n",
              "      <td>U21DKG18C</td>\n",
              "      <td>e2c0fc6c-2134-4891-8353-ef16d8412c9a</td>\n",
              "      <td>{'userSurveyRating': 4.0, 'wizardSurveyTaskSuc...</td>\n",
              "    </tr>\n",
              "    <tr>\n",
              "      <th>1</th>\n",
              "      <td>U21E41CQP</td>\n",
              "      <td>[{'text': 'Hello, I am looking to book a vacat...</td>\n",
              "      <td>U21DMV0KA</td>\n",
              "      <td>4a3bfa39-2c22-42c8-8694-32b4e34415e9</td>\n",
              "      <td>{'userSurveyRating': 3.0, 'wizardSurveyTaskSuc...</td>\n",
              "    </tr>\n",
              "    <tr>\n",
              "      <th>2</th>\n",
              "      <td>U21RP4FCY</td>\n",
              "      <td>[{'text': 'Hello there i am looking to go on a...</td>\n",
              "      <td>U21E0179B</td>\n",
              "      <td>6e67ed28-e94c-4fab-96b6-68569a92682f</td>\n",
              "      <td>{'userSurveyRating': 2.0, 'wizardSurveyTaskSuc...</td>\n",
              "    </tr>\n",
              "    <tr>\n",
              "      <th>3</th>\n",
              "      <td>U22HTHYNP</td>\n",
              "      <td>[{'text': 'Hi I'd like to go to Caprica from B...</td>\n",
              "      <td>U21DKG18C</td>\n",
              "      <td>5ae76e50-5b48-4166-9f6d-67aaabd7bcaa</td>\n",
              "      <td>{'userSurveyRating': 5.0, 'wizardSurveyTaskSuc...</td>\n",
              "    </tr>\n",
              "    <tr>\n",
              "      <th>4</th>\n",
              "      <td>U21E41CQP</td>\n",
              "      <td>[{'text': 'Hello, I am looking to book a trip ...</td>\n",
              "      <td>U21DMV0KA</td>\n",
              "      <td>24603086-bb53-431e-a0d8-1dcc63518ba9</td>\n",
              "      <td>{'userSurveyRating': 5.0, 'wizardSurveyTaskSuc...</td>\n",
              "    </tr>\n",
              "  </tbody>\n",
              "</table>\n",
              "</div>"
            ]
          },
          "metadata": {
            "tags": []
          },
          "execution_count": 2
        }
      ]
    },
    {
      "cell_type": "code",
      "metadata": {
        "trusted": true,
        "id": "yW9l1wrrrMAO",
        "colab_type": "code",
        "colab": {}
      },
      "source": [
        "from __future__ import absolute_import, division, print_function, unicode_literals\n",
        "\n",
        "import tensorflow as tf\n",
        "\n",
        "from sklearn.model_selection import train_test_split\n",
        "\n",
        "import unicodedata\n",
        "import re\n",
        "import numpy as np\n",
        "import os\n",
        "import io\n",
        "import time"
      ],
      "execution_count": 0,
      "outputs": []
    },
    {
      "cell_type": "code",
      "metadata": {
        "trusted": true,
        "id": "lJVexXfJrMAT",
        "colab_type": "code",
        "colab": {},
        "outputId": "ae874cee-a9a8-4d05-b136-535aa4e89850"
      },
      "source": [
        "print (tf.__version__)"
      ],
      "execution_count": 0,
      "outputs": [
        {
          "output_type": "stream",
          "text": [
            "2.0.0\n"
          ],
          "name": "stdout"
        }
      ]
    },
    {
      "cell_type": "code",
      "metadata": {
        "trusted": true,
        "id": "o-e5aXpzrMAX",
        "colab_type": "code",
        "colab": {},
        "outputId": "cef0d7b6-5422-4a6d-8e81-0a81e1ee6225"
      },
      "source": [
        "df.iloc[0]"
      ],
      "execution_count": 0,
      "outputs": [
        {
          "output_type": "execute_result",
          "data": {
            "text/plain": [
              "user_id                                              U22HTHYNP\n",
              "turns        [{'text': 'I'd like to book a trip to Atlantis...\n",
              "wizard_id                                            U21DKG18C\n",
              "id                        e2c0fc6c-2134-4891-8353-ef16d8412c9a\n",
              "labels       {'userSurveyRating': 4.0, 'wizardSurveyTaskSuc...\n",
              "Name: 0, dtype: object"
            ]
          },
          "metadata": {
            "tags": []
          },
          "execution_count": 5
        }
      ]
    },
    {
      "cell_type": "code",
      "metadata": {
        "trusted": true,
        "id": "R7GUopWrrMAb",
        "colab_type": "code",
        "colab": {},
        "outputId": "e655e26a-86e9-4871-c773-8048e00ee490"
      },
      "source": [
        "df['chat'] = df['turns'].apply(lambda x: [item['text'] for item in x])\n",
        "print (df.chat.iloc[0])"
      ],
      "execution_count": 0,
      "outputs": [
        {
          "output_type": "stream",
          "text": [
            "[\"I'd like to book a trip to Atlantis from Caprica on Saturday, August 13, 2016 for 8 adults. I have a tight budget of 1700.\", 'Hi...I checked a few options for you, and unfortunately, we do not currently have any trips that meet this criteria.  Would you like to book an alternate travel option?', 'Yes, how about going to Neverland from Caprica on August 13, 2016 for 5 adults. For this trip, my budget would be 1900.', 'I checked the availability for this date and there were no trips available.  Would you like to select some alternate dates?', 'I have no flexibility for dates... but I can leave from Atlantis rather than Caprica. How about that?', 'I checked the availability for that date and there were no trips available.  Would you like to select some alternate dates?', \"I suppose I'll speak with my husband to see if we can choose other dates, and then I'll come back to you.Thanks for your help\"]\n"
          ],
          "name": "stdout"
        }
      ]
    },
    {
      "cell_type": "code",
      "metadata": {
        "trusted": true,
        "id": "uplkFGxCrMAj",
        "colab_type": "code",
        "colab": {},
        "outputId": "1bcc77af-94e3-42af-d4fd-b064f4786fd2"
      },
      "source": [
        "len(df)"
      ],
      "execution_count": 0,
      "outputs": [
        {
          "output_type": "execute_result",
          "data": {
            "text/plain": [
              "1369"
            ]
          },
          "metadata": {
            "tags": []
          },
          "execution_count": 7
        }
      ]
    },
    {
      "cell_type": "code",
      "metadata": {
        "trusted": true,
        "id": "O4kdz5WtrMAm",
        "colab_type": "code",
        "colab": {}
      },
      "source": [
        "a = df.chat.iloc[1]"
      ],
      "execution_count": 0,
      "outputs": []
    },
    {
      "cell_type": "code",
      "metadata": {
        "trusted": true,
        "id": "SJiK0XGUrMAp",
        "colab_type": "code",
        "colab": {},
        "outputId": "8b6f9f3b-67c6-4266-d708-2bb56f5a3142"
      },
      "source": [
        "# seperating all conversations/questions made the user\n",
        "a[0::2]"
      ],
      "execution_count": 0,
      "outputs": [
        {
          "output_type": "execute_result",
          "data": {
            "text/plain": [
              "['Hello, I am looking to book a vacation from Gotham City to Mos Eisley for $2100.',\n",
              " 'What about a trip from Gotham City to Neverland for the same budget?',\n",
              " 'Would any packages to Mos Eisley be available if I increase my budget to $2500?',\n",
              " \"You know what, I'd like to try and visit Neverland\",\n",
              " 'Do you have any trips from Gotham City to Kobe for my original budget of $2100?',\n",
              " \"No, that's too far for me. I need a flight that leaves from Birmingham.\",\n",
              " 'How many days would I be in Kobe?',\n",
              " 'What would the price be if I shortened my trip by one day?',\n",
              " 'Ok, then I would like to purchase this package. What activities are included in this package?',\n",
              " 'Yes, I would like to book this package.']"
            ]
          },
          "metadata": {
            "tags": []
          },
          "execution_count": 9
        }
      ]
    },
    {
      "cell_type": "code",
      "metadata": {
        "trusted": true,
        "id": "kcUIWMLarMAs",
        "colab_type": "code",
        "colab": {},
        "outputId": "f6e982cd-c09c-4efd-be6f-6c3455d4ba28"
      },
      "source": [
        "# seperating all the conversations/ answers made by the bot\n",
        "a[1::2]"
      ],
      "execution_count": 0,
      "outputs": [
        {
          "output_type": "execute_result",
          "data": {
            "text/plain": [
              "[\"Hi. Sorry, I can't find any trips from Gotham City to Mos Eisley for you.\",\n",
              " 'Sorry, I cannot find any trips leaving from Gotham City. Could you suggest another nearby departure city?',\n",
              " 'There are no trips available to Mos Eisley.',\n",
              " 'I cannot find any trips available to Neverland.',\n",
              " 'I can book you a 3 day trip to Kobe leaving from Sapporo, Japan. Is this ok?',\n",
              " 'I can book you a trip from Birmingham to Kobe for 2747.8 USD.',\n",
              " 'You would arrive in Kobe August 17th and return to Birmingham on August 22nd.',\n",
              " 'I can not find any trips from Birmingham to Kobe for 4 days.',\n",
              " 'There are no activities listed for this package. You will be staying at the Ivory Legacy Hotel for 7 days. This hotel has a 4.5 star rating and free wifi. Will I go ahead and book this package?',\n",
              " 'Great. Your flight departs from Birmingham at 9:00 am - Wednesday, August 17th 2016. Enjoy your trip, I have booked this package for you.']"
            ]
          },
          "metadata": {
            "tags": []
          },
          "execution_count": 10
        }
      ]
    },
    {
      "cell_type": "code",
      "metadata": {
        "trusted": true,
        "id": "n3NToNa3rMAx",
        "colab_type": "code",
        "colab": {},
        "outputId": "67bc9668-7b20-497b-f4ca-5c1bc36296db"
      },
      "source": [
        "# sample_df of one conversation\n",
        "pd.set_option('display.max_colwidth',-1)\n",
        "sample_df = pd.DataFrame(list(zip(a[0::2], a[1::2])),columns = ['user','bot'])\n",
        "sample_df.head()"
      ],
      "execution_count": 0,
      "outputs": [
        {
          "output_type": "execute_result",
          "data": {
            "text/plain": [
              "                                                                               user  \\\n",
              "0  Hello, I am looking to book a vacation from Gotham City to Mos Eisley for $2100.   \n",
              "1  What about a trip from Gotham City to Neverland for the same budget?               \n",
              "2  Would any packages to Mos Eisley be available if I increase my budget to $2500?    \n",
              "3  You know what, I'd like to try and visit Neverland                                 \n",
              "4  Do you have any trips from Gotham City to Kobe for my original budget of $2100?    \n",
              "\n",
              "                                                                                                         bot  \n",
              "0  Hi. Sorry, I can't find any trips from Gotham City to Mos Eisley for you.                                  \n",
              "1  Sorry, I cannot find any trips leaving from Gotham City. Could you suggest another nearby departure city?  \n",
              "2  There are no trips available to Mos Eisley.                                                                \n",
              "3  I cannot find any trips available to Neverland.                                                            \n",
              "4  I can book you a 3 day trip to Kobe leaving from Sapporo, Japan. Is this ok?                               "
            ],
            "text/html": [
              "<div>\n",
              "<style scoped>\n",
              "    .dataframe tbody tr th:only-of-type {\n",
              "        vertical-align: middle;\n",
              "    }\n",
              "\n",
              "    .dataframe tbody tr th {\n",
              "        vertical-align: top;\n",
              "    }\n",
              "\n",
              "    .dataframe thead th {\n",
              "        text-align: right;\n",
              "    }\n",
              "</style>\n",
              "<table border=\"1\" class=\"dataframe\">\n",
              "  <thead>\n",
              "    <tr style=\"text-align: right;\">\n",
              "      <th></th>\n",
              "      <th>user</th>\n",
              "      <th>bot</th>\n",
              "    </tr>\n",
              "  </thead>\n",
              "  <tbody>\n",
              "    <tr>\n",
              "      <th>0</th>\n",
              "      <td>Hello, I am looking to book a vacation from Gotham City to Mos Eisley for $2100.</td>\n",
              "      <td>Hi. Sorry, I can't find any trips from Gotham City to Mos Eisley for you.</td>\n",
              "    </tr>\n",
              "    <tr>\n",
              "      <th>1</th>\n",
              "      <td>What about a trip from Gotham City to Neverland for the same budget?</td>\n",
              "      <td>Sorry, I cannot find any trips leaving from Gotham City. Could you suggest another nearby departure city?</td>\n",
              "    </tr>\n",
              "    <tr>\n",
              "      <th>2</th>\n",
              "      <td>Would any packages to Mos Eisley be available if I increase my budget to $2500?</td>\n",
              "      <td>There are no trips available to Mos Eisley.</td>\n",
              "    </tr>\n",
              "    <tr>\n",
              "      <th>3</th>\n",
              "      <td>You know what, I'd like to try and visit Neverland</td>\n",
              "      <td>I cannot find any trips available to Neverland.</td>\n",
              "    </tr>\n",
              "    <tr>\n",
              "      <th>4</th>\n",
              "      <td>Do you have any trips from Gotham City to Kobe for my original budget of $2100?</td>\n",
              "      <td>I can book you a 3 day trip to Kobe leaving from Sapporo, Japan. Is this ok?</td>\n",
              "    </tr>\n",
              "  </tbody>\n",
              "</table>\n",
              "</div>"
            ]
          },
          "metadata": {
            "tags": []
          },
          "execution_count": 11
        }
      ]
    },
    {
      "cell_type": "code",
      "metadata": {
        "trusted": true,
        "id": "oIM0k63IrMA1",
        "colab_type": "code",
        "colab": {},
        "outputId": "408befc0-3e7b-482e-a68d-c463be8a8a8a"
      },
      "source": [
        "# converting entire converations of the data into dataframe \n",
        "df_new = pd.DataFrame(columns=['user','bot'])\n",
        "temp_u=list()\n",
        "temp_b = list()\n",
        "bot = list()\n",
        "for i in range(len(df.chat)):\n",
        "    temp_u=list()\n",
        "    temp_b = list()\n",
        "    for j in df.chat.iloc[i][0::2]:\n",
        "        temp_u.append(j)\n",
        "    for k in df.chat.iloc[i][1::2]:\n",
        "        temp_b.append(k)\n",
        "    df_new = df_new.append(pd.DataFrame({'user':pd.Series(temp_u),'bot':pd.Series(temp_b)}), ignore_index = True)\n",
        "#print (pd.DataFrame({'user':pd.Series(temp_u),'bot':pd.Series(temp_b)}))\n",
        "print (len(df_new))"
      ],
      "execution_count": 0,
      "outputs": [
        {
          "output_type": "stream",
          "text": [
            "10407\n"
          ],
          "name": "stdout"
        }
      ]
    },
    {
      "cell_type": "code",
      "metadata": {
        "trusted": true,
        "id": "-aeihB0xrMA4",
        "colab_type": "code",
        "colab": {},
        "outputId": "471d424a-8ff4-49a5-9ef3-69a6bc72903b"
      },
      "source": [
        "df_new.head()"
      ],
      "execution_count": 0,
      "outputs": [
        {
          "output_type": "execute_result",
          "data": {
            "text/plain": [
              "                                                                                                                            user  \\\n",
              "0  I'd like to book a trip to Atlantis from Caprica on Saturday, August 13, 2016 for 8 adults. I have a tight budget of 1700.      \n",
              "1  Yes, how about going to Neverland from Caprica on August 13, 2016 for 5 adults. For this trip, my budget would be 1900.         \n",
              "2  I have no flexibility for dates... but I can leave from Atlantis rather than Caprica. How about that?                           \n",
              "3  I suppose I'll speak with my husband to see if we can choose other dates, and then I'll come back to you.Thanks for your help   \n",
              "4  Hello, I am looking to book a vacation from Gotham City to Mos Eisley for $2100.                                                \n",
              "\n",
              "                                                                                                                                                                        bot  \n",
              "0  Hi...I checked a few options for you, and unfortunately, we do not currently have any trips that meet this criteria.  Would you like to book an alternate travel option?  \n",
              "1  I checked the availability for this date and there were no trips available.  Would you like to select some alternate dates?                                               \n",
              "2  I checked the availability for that date and there were no trips available.  Would you like to select some alternate dates?                                               \n",
              "3  NaN                                                                                                                                                                       \n",
              "4  Hi. Sorry, I can't find any trips from Gotham City to Mos Eisley for you.                                                                                                 "
            ],
            "text/html": [
              "<div>\n",
              "<style scoped>\n",
              "    .dataframe tbody tr th:only-of-type {\n",
              "        vertical-align: middle;\n",
              "    }\n",
              "\n",
              "    .dataframe tbody tr th {\n",
              "        vertical-align: top;\n",
              "    }\n",
              "\n",
              "    .dataframe thead th {\n",
              "        text-align: right;\n",
              "    }\n",
              "</style>\n",
              "<table border=\"1\" class=\"dataframe\">\n",
              "  <thead>\n",
              "    <tr style=\"text-align: right;\">\n",
              "      <th></th>\n",
              "      <th>user</th>\n",
              "      <th>bot</th>\n",
              "    </tr>\n",
              "  </thead>\n",
              "  <tbody>\n",
              "    <tr>\n",
              "      <th>0</th>\n",
              "      <td>I'd like to book a trip to Atlantis from Caprica on Saturday, August 13, 2016 for 8 adults. I have a tight budget of 1700.</td>\n",
              "      <td>Hi...I checked a few options for you, and unfortunately, we do not currently have any trips that meet this criteria.  Would you like to book an alternate travel option?</td>\n",
              "    </tr>\n",
              "    <tr>\n",
              "      <th>1</th>\n",
              "      <td>Yes, how about going to Neverland from Caprica on August 13, 2016 for 5 adults. For this trip, my budget would be 1900.</td>\n",
              "      <td>I checked the availability for this date and there were no trips available.  Would you like to select some alternate dates?</td>\n",
              "    </tr>\n",
              "    <tr>\n",
              "      <th>2</th>\n",
              "      <td>I have no flexibility for dates... but I can leave from Atlantis rather than Caprica. How about that?</td>\n",
              "      <td>I checked the availability for that date and there were no trips available.  Would you like to select some alternate dates?</td>\n",
              "    </tr>\n",
              "    <tr>\n",
              "      <th>3</th>\n",
              "      <td>I suppose I'll speak with my husband to see if we can choose other dates, and then I'll come back to you.Thanks for your help</td>\n",
              "      <td>NaN</td>\n",
              "    </tr>\n",
              "    <tr>\n",
              "      <th>4</th>\n",
              "      <td>Hello, I am looking to book a vacation from Gotham City to Mos Eisley for $2100.</td>\n",
              "      <td>Hi. Sorry, I can't find any trips from Gotham City to Mos Eisley for you.</td>\n",
              "    </tr>\n",
              "  </tbody>\n",
              "</table>\n",
              "</div>"
            ]
          },
          "metadata": {
            "tags": []
          },
          "execution_count": 13
        }
      ]
    },
    {
      "cell_type": "code",
      "metadata": {
        "trusted": true,
        "id": "ljZF6hBerMA8",
        "colab_type": "code",
        "colab": {},
        "outputId": "ef68083d-0344-4e8e-ba8c-9bb9bc0c26ac"
      },
      "source": [
        "df_new.tail()"
      ],
      "execution_count": 0,
      "outputs": [
        {
          "output_type": "execute_result",
          "data": {
            "text/plain": [
              "                                                                                user  \\\n",
              "10402  5 adults and 7 kids! Yup, the lot of us. We want to spend no more than 32800.   \n",
              "10403  Oh yes! Between September 12 and 26!                                            \n",
              "10404  That sounds amazing, and it's within those dates? Is that economy class?        \n",
              "10405  Ok perfect, book me!                                                            \n",
              "10406  Thanks!                                                                         \n",
              "\n",
              "                                                                                                                                                                                                                                      bot  \n",
              "10402  Do you have any date constraints?                                                                                                                                                                                                   \n",
              "10403  In that case, I would like to recommend you our best deal: a 15 day stay at a prestigious 4 star hotel in Queenstown with free breakfast, wifi, and parking during your entire stay. For the whole family it will just be 31122.0.  \n",
              "10404  Yup it's from the 12th to the 25th, and it will be economy class.                                                                                                                                                                   \n",
              "10405  Consider it done! Have a good trip :slightly_smiling_face:                                                                                                                                                                          \n",
              "10406  My pleasure!                                                                                                                                                                                                                        "
            ],
            "text/html": [
              "<div>\n",
              "<style scoped>\n",
              "    .dataframe tbody tr th:only-of-type {\n",
              "        vertical-align: middle;\n",
              "    }\n",
              "\n",
              "    .dataframe tbody tr th {\n",
              "        vertical-align: top;\n",
              "    }\n",
              "\n",
              "    .dataframe thead th {\n",
              "        text-align: right;\n",
              "    }\n",
              "</style>\n",
              "<table border=\"1\" class=\"dataframe\">\n",
              "  <thead>\n",
              "    <tr style=\"text-align: right;\">\n",
              "      <th></th>\n",
              "      <th>user</th>\n",
              "      <th>bot</th>\n",
              "    </tr>\n",
              "  </thead>\n",
              "  <tbody>\n",
              "    <tr>\n",
              "      <th>10402</th>\n",
              "      <td>5 adults and 7 kids! Yup, the lot of us. We want to spend no more than 32800.</td>\n",
              "      <td>Do you have any date constraints?</td>\n",
              "    </tr>\n",
              "    <tr>\n",
              "      <th>10403</th>\n",
              "      <td>Oh yes! Between September 12 and 26!</td>\n",
              "      <td>In that case, I would like to recommend you our best deal: a 15 day stay at a prestigious 4 star hotel in Queenstown with free breakfast, wifi, and parking during your entire stay. For the whole family it will just be 31122.0.</td>\n",
              "    </tr>\n",
              "    <tr>\n",
              "      <th>10404</th>\n",
              "      <td>That sounds amazing, and it's within those dates? Is that economy class?</td>\n",
              "      <td>Yup it's from the 12th to the 25th, and it will be economy class.</td>\n",
              "    </tr>\n",
              "    <tr>\n",
              "      <th>10405</th>\n",
              "      <td>Ok perfect, book me!</td>\n",
              "      <td>Consider it done! Have a good trip :slightly_smiling_face:</td>\n",
              "    </tr>\n",
              "    <tr>\n",
              "      <th>10406</th>\n",
              "      <td>Thanks!</td>\n",
              "      <td>My pleasure!</td>\n",
              "    </tr>\n",
              "  </tbody>\n",
              "</table>\n",
              "</div>"
            ]
          },
          "metadata": {
            "tags": []
          },
          "execution_count": 14
        }
      ]
    },
    {
      "cell_type": "code",
      "metadata": {
        "trusted": true,
        "id": "5g6jAgeUrMBB",
        "colab_type": "code",
        "colab": {},
        "outputId": "1599d26c-035a-4d18-965d-90835236dfd4"
      },
      "source": [
        "# lets see rows with \"nan\"\n",
        "df_new[df_new.isnull().any(axis=1)].head()\n"
      ],
      "execution_count": 0,
      "outputs": [
        {
          "output_type": "execute_result",
          "data": {
            "text/plain": [
              "                                                                                                                             user  \\\n",
              "3   I suppose I'll speak with my husband to see if we can choose other dates, and then I'll come back to you.Thanks for your help   \n",
              "24  Ahh...maybe another time                                                                                                        \n",
              "31  Yes I would. Thanks for your help.                                                                                              \n",
              "36  Thank you                                                                                                                       \n",
              "44  Yes please, that sounds wonderful. thank you                                                                                    \n",
              "\n",
              "    bot  \n",
              "3   NaN  \n",
              "24  NaN  \n",
              "31  NaN  \n",
              "36  NaN  \n",
              "44  NaN  "
            ],
            "text/html": [
              "<div>\n",
              "<style scoped>\n",
              "    .dataframe tbody tr th:only-of-type {\n",
              "        vertical-align: middle;\n",
              "    }\n",
              "\n",
              "    .dataframe tbody tr th {\n",
              "        vertical-align: top;\n",
              "    }\n",
              "\n",
              "    .dataframe thead th {\n",
              "        text-align: right;\n",
              "    }\n",
              "</style>\n",
              "<table border=\"1\" class=\"dataframe\">\n",
              "  <thead>\n",
              "    <tr style=\"text-align: right;\">\n",
              "      <th></th>\n",
              "      <th>user</th>\n",
              "      <th>bot</th>\n",
              "    </tr>\n",
              "  </thead>\n",
              "  <tbody>\n",
              "    <tr>\n",
              "      <th>3</th>\n",
              "      <td>I suppose I'll speak with my husband to see if we can choose other dates, and then I'll come back to you.Thanks for your help</td>\n",
              "      <td>NaN</td>\n",
              "    </tr>\n",
              "    <tr>\n",
              "      <th>24</th>\n",
              "      <td>Ahh...maybe another time</td>\n",
              "      <td>NaN</td>\n",
              "    </tr>\n",
              "    <tr>\n",
              "      <th>31</th>\n",
              "      <td>Yes I would. Thanks for your help.</td>\n",
              "      <td>NaN</td>\n",
              "    </tr>\n",
              "    <tr>\n",
              "      <th>36</th>\n",
              "      <td>Thank you</td>\n",
              "      <td>NaN</td>\n",
              "    </tr>\n",
              "    <tr>\n",
              "      <th>44</th>\n",
              "      <td>Yes please, that sounds wonderful. thank you</td>\n",
              "      <td>NaN</td>\n",
              "    </tr>\n",
              "  </tbody>\n",
              "</table>\n",
              "</div>"
            ]
          },
          "metadata": {
            "tags": []
          },
          "execution_count": 15
        }
      ]
    },
    {
      "cell_type": "code",
      "metadata": {
        "trusted": true,
        "id": "VppNo6SgrMBE",
        "colab_type": "code",
        "colab": {},
        "outputId": "edd114eb-6161-48f5-a382-c6a82df37aa2"
      },
      "source": [
        "df_new[df_new.isnull().any(axis=1)].tail()\n"
      ],
      "execution_count": 0,
      "outputs": [
        {
          "output_type": "execute_result",
          "data": {
            "text/plain": [
              "             user  bot\n",
              "10311  Thank you   NaN\n",
              "10332  thank you   NaN\n",
              "10361  Ridiculous  NaN\n",
              "10370  Thanks!     NaN\n",
              "10378  Thanks      NaN"
            ],
            "text/html": [
              "<div>\n",
              "<style scoped>\n",
              "    .dataframe tbody tr th:only-of-type {\n",
              "        vertical-align: middle;\n",
              "    }\n",
              "\n",
              "    .dataframe tbody tr th {\n",
              "        vertical-align: top;\n",
              "    }\n",
              "\n",
              "    .dataframe thead th {\n",
              "        text-align: right;\n",
              "    }\n",
              "</style>\n",
              "<table border=\"1\" class=\"dataframe\">\n",
              "  <thead>\n",
              "    <tr style=\"text-align: right;\">\n",
              "      <th></th>\n",
              "      <th>user</th>\n",
              "      <th>bot</th>\n",
              "    </tr>\n",
              "  </thead>\n",
              "  <tbody>\n",
              "    <tr>\n",
              "      <th>10311</th>\n",
              "      <td>Thank you</td>\n",
              "      <td>NaN</td>\n",
              "    </tr>\n",
              "    <tr>\n",
              "      <th>10332</th>\n",
              "      <td>thank you</td>\n",
              "      <td>NaN</td>\n",
              "    </tr>\n",
              "    <tr>\n",
              "      <th>10361</th>\n",
              "      <td>Ridiculous</td>\n",
              "      <td>NaN</td>\n",
              "    </tr>\n",
              "    <tr>\n",
              "      <th>10370</th>\n",
              "      <td>Thanks!</td>\n",
              "      <td>NaN</td>\n",
              "    </tr>\n",
              "    <tr>\n",
              "      <th>10378</th>\n",
              "      <td>Thanks</td>\n",
              "      <td>NaN</td>\n",
              "    </tr>\n",
              "  </tbody>\n",
              "</table>\n",
              "</div>"
            ]
          },
          "metadata": {
            "tags": []
          },
          "execution_count": 16
        }
      ]
    },
    {
      "cell_type": "code",
      "metadata": {
        "trusted": true,
        "id": "SXfW4MoUrMBH",
        "colab_type": "code",
        "colab": {}
      },
      "source": [
        "# lets work on the NaN data\n",
        "df_nan = df_new[df_new.isnull().any(axis=1)]"
      ],
      "execution_count": 0,
      "outputs": []
    },
    {
      "cell_type": "code",
      "metadata": {
        "trusted": true,
        "id": "CLLa5ik7rMBK",
        "colab_type": "code",
        "colab": {},
        "outputId": "174272ff-e1b9-4eb1-a575-4160ba5aaf77"
      },
      "source": [
        "# lets look at the wordcloud to see what were the converstions had with the bot \n",
        "from wordcloud import WordCloud\n",
        "import matplotlib.pyplot as plt\n",
        "\n",
        "wordcloud2 = WordCloud().generate(' '.join(df_nan['user']))\n",
        "plt.imshow(wordcloud2)\n",
        "plt.axis(\"off\")\n",
        "plt.show()"
      ],
      "execution_count": 0,
      "outputs": [
        {
          "output_type": "display_data",
          "data": {
            "text/plain": [
              "<Figure size 432x288 with 1 Axes>"
            ],
            "image/png": "[encoded data removed]"
          },
          "metadata": {
            "tags": [],
            "needs_background": "light"
          }
        }
      ]
    },
    {
      "cell_type": "markdown",
      "metadata": {
        "id": "Mkvy_LfdrMBO",
        "colab_type": "text"
      },
      "source": [
        "### since almost all of the words in the user column are conclusions and pleasantries instead of removing this data of 800 rows i'll replace \"NaN\" with \"you are welcome\" like an end of a conversation."
      ]
    },
    {
      "cell_type": "code",
      "metadata": {
        "trusted": true,
        "id": "4R1_d2t1rMBQ",
        "colab_type": "code",
        "colab": {},
        "outputId": "228e4f18-7eae-429d-e770-5b59d4a22369"
      },
      "source": [
        "# replacing \"NaN\" in with \"you are welcome\"\n",
        "df_nan['bot'].fillna('you are welcome', inplace=True)\n",
        "df_nan.head()\n"
      ],
      "execution_count": 0,
      "outputs": [
        {
          "output_type": "stream",
          "text": [
            "/opt/conda/lib/python3.6/site-packages/pandas/core/generic.py:6287: SettingWithCopyWarning: \n",
            "A value is trying to be set on a copy of a slice from a DataFrame\n",
            "\n",
            "See the caveats in the documentation: http://pandas.pydata.org/pandas-docs/stable/user_guide/indexing.html#returning-a-view-versus-a-copy\n",
            "  self._update_inplace(new_data)\n"
          ],
          "name": "stderr"
        },
        {
          "output_type": "execute_result",
          "data": {
            "text/plain": [
              "                                                                                                                             user  \\\n",
              "3   I suppose I'll speak with my husband to see if we can choose other dates, and then I'll come back to you.Thanks for your help   \n",
              "24  Ahh...maybe another time                                                                                                        \n",
              "31  Yes I would. Thanks for your help.                                                                                              \n",
              "36  Thank you                                                                                                                       \n",
              "44  Yes please, that sounds wonderful. thank you                                                                                    \n",
              "\n",
              "                bot  \n",
              "3   you are welcome  \n",
              "24  you are welcome  \n",
              "31  you are welcome  \n",
              "36  you are welcome  \n",
              "44  you are welcome  "
            ],
            "text/html": [
              "<div>\n",
              "<style scoped>\n",
              "    .dataframe tbody tr th:only-of-type {\n",
              "        vertical-align: middle;\n",
              "    }\n",
              "\n",
              "    .dataframe tbody tr th {\n",
              "        vertical-align: top;\n",
              "    }\n",
              "\n",
              "    .dataframe thead th {\n",
              "        text-align: right;\n",
              "    }\n",
              "</style>\n",
              "<table border=\"1\" class=\"dataframe\">\n",
              "  <thead>\n",
              "    <tr style=\"text-align: right;\">\n",
              "      <th></th>\n",
              "      <th>user</th>\n",
              "      <th>bot</th>\n",
              "    </tr>\n",
              "  </thead>\n",
              "  <tbody>\n",
              "    <tr>\n",
              "      <th>3</th>\n",
              "      <td>I suppose I'll speak with my husband to see if we can choose other dates, and then I'll come back to you.Thanks for your help</td>\n",
              "      <td>you are welcome</td>\n",
              "    </tr>\n",
              "    <tr>\n",
              "      <th>24</th>\n",
              "      <td>Ahh...maybe another time</td>\n",
              "      <td>you are welcome</td>\n",
              "    </tr>\n",
              "    <tr>\n",
              "      <th>31</th>\n",
              "      <td>Yes I would. Thanks for your help.</td>\n",
              "      <td>you are welcome</td>\n",
              "    </tr>\n",
              "    <tr>\n",
              "      <th>36</th>\n",
              "      <td>Thank you</td>\n",
              "      <td>you are welcome</td>\n",
              "    </tr>\n",
              "    <tr>\n",
              "      <th>44</th>\n",
              "      <td>Yes please, that sounds wonderful. thank you</td>\n",
              "      <td>you are welcome</td>\n",
              "    </tr>\n",
              "  </tbody>\n",
              "</table>\n",
              "</div>"
            ]
          },
          "metadata": {
            "tags": []
          },
          "execution_count": 19
        }
      ]
    },
    {
      "cell_type": "code",
      "metadata": {
        "trusted": true,
        "id": "54f1a64rrMBT",
        "colab_type": "code",
        "colab": {},
        "outputId": "f4d6eac3-6618-4d7e-b0da-0153720a6be0"
      },
      "source": [
        "# now doing the same with the entire data\n",
        "df_new['bot'].fillna('you are welcome', inplace=True)\n",
        "df_new.head()\n"
      ],
      "execution_count": 0,
      "outputs": [
        {
          "output_type": "execute_result",
          "data": {
            "text/plain": [
              "                                                                                                                            user  \\\n",
              "0  I'd like to book a trip to Atlantis from Caprica on Saturday, August 13, 2016 for 8 adults. I have a tight budget of 1700.      \n",
              "1  Yes, how about going to Neverland from Caprica on August 13, 2016 for 5 adults. For this trip, my budget would be 1900.         \n",
              "2  I have no flexibility for dates... but I can leave from Atlantis rather than Caprica. How about that?                           \n",
              "3  I suppose I'll speak with my husband to see if we can choose other dates, and then I'll come back to you.Thanks for your help   \n",
              "4  Hello, I am looking to book a vacation from Gotham City to Mos Eisley for $2100.                                                \n",
              "\n",
              "                                                                                                                                                                        bot  \n",
              "0  Hi...I checked a few options for you, and unfortunately, we do not currently have any trips that meet this criteria.  Would you like to book an alternate travel option?  \n",
              "1  I checked the availability for this date and there were no trips available.  Would you like to select some alternate dates?                                               \n",
              "2  I checked the availability for that date and there were no trips available.  Would you like to select some alternate dates?                                               \n",
              "3  you are welcome                                                                                                                                                           \n",
              "4  Hi. Sorry, I can't find any trips from Gotham City to Mos Eisley for you.                                                                                                 "
            ],
            "text/html": [
              "<div>\n",
              "<style scoped>\n",
              "    .dataframe tbody tr th:only-of-type {\n",
              "        vertical-align: middle;\n",
              "    }\n",
              "\n",
              "    .dataframe tbody tr th {\n",
              "        vertical-align: top;\n",
              "    }\n",
              "\n",
              "    .dataframe thead th {\n",
              "        text-align: right;\n",
              "    }\n",
              "</style>\n",
              "<table border=\"1\" class=\"dataframe\">\n",
              "  <thead>\n",
              "    <tr style=\"text-align: right;\">\n",
              "      <th></th>\n",
              "      <th>user</th>\n",
              "      <th>bot</th>\n",
              "    </tr>\n",
              "  </thead>\n",
              "  <tbody>\n",
              "    <tr>\n",
              "      <th>0</th>\n",
              "      <td>I'd like to book a trip to Atlantis from Caprica on Saturday, August 13, 2016 for 8 adults. I have a tight budget of 1700.</td>\n",
              "      <td>Hi...I checked a few options for you, and unfortunately, we do not currently have any trips that meet this criteria.  Would you like to book an alternate travel option?</td>\n",
              "    </tr>\n",
              "    <tr>\n",
              "      <th>1</th>\n",
              "      <td>Yes, how about going to Neverland from Caprica on August 13, 2016 for 5 adults. For this trip, my budget would be 1900.</td>\n",
              "      <td>I checked the availability for this date and there were no trips available.  Would you like to select some alternate dates?</td>\n",
              "    </tr>\n",
              "    <tr>\n",
              "      <th>2</th>\n",
              "      <td>I have no flexibility for dates... but I can leave from Atlantis rather than Caprica. How about that?</td>\n",
              "      <td>I checked the availability for that date and there were no trips available.  Would you like to select some alternate dates?</td>\n",
              "    </tr>\n",
              "    <tr>\n",
              "      <th>3</th>\n",
              "      <td>I suppose I'll speak with my husband to see if we can choose other dates, and then I'll come back to you.Thanks for your help</td>\n",
              "      <td>you are welcome</td>\n",
              "    </tr>\n",
              "    <tr>\n",
              "      <th>4</th>\n",
              "      <td>Hello, I am looking to book a vacation from Gotham City to Mos Eisley for $2100.</td>\n",
              "      <td>Hi. Sorry, I can't find any trips from Gotham City to Mos Eisley for you.</td>\n",
              "    </tr>\n",
              "  </tbody>\n",
              "</table>\n",
              "</div>"
            ]
          },
          "metadata": {
            "tags": []
          },
          "execution_count": 20
        }
      ]
    },
    {
      "cell_type": "code",
      "metadata": {
        "trusted": true,
        "id": "x0UNOVburMBZ",
        "colab_type": "code",
        "colab": {},
        "outputId": "37c5234e-b796-42d6-995d-fbf910e3ee34"
      },
      "source": [
        "len(df_new)"
      ],
      "execution_count": 0,
      "outputs": [
        {
          "output_type": "execute_result",
          "data": {
            "text/plain": [
              "10407"
            ]
          },
          "metadata": {
            "tags": []
          },
          "execution_count": 21
        }
      ]
    },
    {
      "cell_type": "code",
      "metadata": {
        "trusted": true,
        "id": "gGFpskl4rMI1",
        "colab_type": "code",
        "colab": {}
      },
      "source": [
        "def clean_text(text):\n",
        "    '''Clean text by removing unnecessary characters and altering the format of words.'''\n",
        "\n",
        "    text = text.lower()\n",
        "    \n",
        "    text = re.sub(r\"i'm\", \"i am\", text)\n",
        "    text = re.sub(r\"he's\", \"he is\", text)\n",
        "    text = re.sub(r\"she's\", \"she is\", text)\n",
        "    text = re.sub(r\"it's\", \"it is\", text)\n",
        "    text = re.sub(r\"that's\", \"that is\", text)\n",
        "    text = re.sub(r\"what's\", \"that is\", text)\n",
        "    text = re.sub(r\"where's\", \"where is\", text)\n",
        "    text = re.sub(r\"how's\", \"how is\", text)\n",
        "    text = re.sub(r\"\\'ll\", \" will\", text)\n",
        "    text = re.sub(r\"\\'ve\", \" have\", text)\n",
        "    text = re.sub(r\"\\'re\", \" are\", text)\n",
        "    text = re.sub(r\"\\'d\", \" would\", text)\n",
        "    text = re.sub(r\"\\'re\", \" are\", text)\n",
        "    text = re.sub(r\"won't\", \"will not\", text)\n",
        "    text = re.sub(r\"can't\", \"cannot\", text)\n",
        "    text = re.sub(r\"n't\", \" not\", text)\n",
        "    text = re.sub(r\"n'\", \"ng\", text)\n",
        "    text = re.sub(r\"'bout\", \"about\", text)\n",
        "    text = re.sub(r\"'til\", \"until\", text)\n",
        "    text = re.sub(r\"[-()\\\"#/@;:<>{}`+=~|.!?,]\", \"\", text)\n",
        "    text = \" \".join(text.split())\n",
        "    text = '<start> ' + text + ' <end>'\n",
        "    return text"
      ],
      "execution_count": 0,
      "outputs": []
    },
    {
      "cell_type": "code",
      "metadata": {
        "trusted": true,
        "id": "7Xt8BNG-rMI8",
        "colab_type": "code",
        "colab": {}
      },
      "source": [
        "# Clean the data\n",
        "clean_questions = []\n",
        "for question in df_new['user']:\n",
        "    clean_questions.append(clean_text(question))\n",
        "    \n",
        "clean_answers = []    \n",
        "for answer in df_new['bot']:\n",
        "    clean_answers.append(clean_text(answer))"
      ],
      "execution_count": 0,
      "outputs": []
    },
    {
      "cell_type": "code",
      "metadata": {
        "trusted": true,
        "id": "jL9c3DLirMJB",
        "colab_type": "code",
        "colab": {},
        "outputId": "5b4cfc37-682e-4185-d9f6-2a463a2666d3"
      },
      "source": [
        "r = np.random.randint(1,len(df_new))\n",
        "print ('original text......')\n",
        "for i in range(r, r+3):\n",
        "    print(df_new.user[i])\n",
        "    print(df_new.bot[i])\n",
        "    print()\n",
        "print ('cleaned text......')\n",
        "for i in range(r, r+3):\n",
        "    print(clean_questions[i])\n",
        "    print(clean_answers[i])\n",
        "    print()"
      ],
      "execution_count": 0,
      "outputs": [
        {
          "output_type": "stream",
          "text": [
            "original text......\n",
            "Is there anything similar for Punta Cana?\n",
            "Nope, nothing that works with you budget. Is your budget flexible?\n",
            "\n",
            "No, it's not. I'm going to have a think about it and decide what I want later.\n",
            "But thanks for your help!\n",
            "You're very welcome! Good luck with your search!\n",
            "\n",
            "Heyaaa\n",
            "Hi! How can I help you?\n",
            "\n",
            "cleaned text......\n",
            "<start> is there anything similar for punta cana <end>\n",
            "<start> nope nothing that works with you budget is your budget flexible <end>\n",
            "\n",
            "<start> no it is not i am going to have a think about it and decide what i want later but thanks for your help <end>\n",
            "<start> you are very welcome good luck with your search <end>\n",
            "\n",
            "<start> heyaaa <end>\n",
            "<start> hi how can i help you <end>\n",
            "\n"
          ],
          "name": "stdout"
        }
      ]
    },
    {
      "cell_type": "code",
      "metadata": {
        "trusted": true,
        "id": "qLsePgT3rMJH",
        "colab_type": "code",
        "colab": {}
      },
      "source": [
        "max_features = 5000\n",
        "max_len = 50\n",
        "def tokenize(x):\n",
        "    text_tokenizer = tf.keras.preprocessing.text.Tokenizer( num_words = max_features ,filters='')\n",
        "    text_tokenizer.fit_on_texts(x)\n",
        "    tensor = text_tokenizer.texts_to_sequences(x)\n",
        "    tensor = tf.keras.preprocessing.sequence.pad_sequences(tensor,maxlen = max_len,padding='post')\n",
        "    return tensor , text_tokenizer"
      ],
      "execution_count": 0,
      "outputs": []
    },
    {
      "cell_type": "code",
      "metadata": {
        "trusted": true,
        "id": "VZucIZH-rMJQ",
        "colab_type": "code",
        "colab": {}
      },
      "source": [
        "def load_dataset(input_ques, output_ans, num_examples=None):\n",
        "    input_tensor, input_text_tokenizer = tokenize(input_ques)\n",
        "    target_tensor, target_text_tokenizer = tokenize(output_ans)\n",
        "\n",
        "    return input_tensor, target_tensor , input_text_tokenizer,target_text_tokenizer"
      ],
      "execution_count": 0,
      "outputs": []
    },
    {
      "cell_type": "code",
      "metadata": {
        "trusted": true,
        "id": "9wCf5meIrMJW",
        "colab_type": "code",
        "colab": {}
      },
      "source": [
        "\n",
        "input_tensor, target_tensor , input_text_tokenizer,target_text_tokenizer= load_dataset(clean_questions,clean_answers)\n",
        "\n",
        "# Calculate max_length of the target tensors\n",
        "def max_length(tensor):\n",
        "    return max(len(t) for t in tensor)\n",
        "max_length_targ, max_length_inp = max_length(target_tensor), max_length(input_tensor)"
      ],
      "execution_count": 0,
      "outputs": []
    },
    {
      "cell_type": "code",
      "metadata": {
        "trusted": true,
        "id": "5zRORvFSrMJd",
        "colab_type": "code",
        "colab": {},
        "outputId": "7faf07db-5c81-4ce0-8e8d-60b8333379e9"
      },
      "source": [
        "# Creating training and validation sets using an 80-20 split\n",
        "input_tensor_train, input_tensor_val, target_tensor_train, target_tensor_val = train_test_split(input_tensor, target_tensor, test_size=0.2)\n",
        "\n",
        "# Show length\n",
        "print(len(input_tensor_train), len(target_tensor_train), len(input_tensor_val), len(target_tensor_val))"
      ],
      "execution_count": 0,
      "outputs": [
        {
          "output_type": "stream",
          "text": [
            "8325 8325 2082 2082\n"
          ],
          "name": "stdout"
        }
      ]
    },
    {
      "cell_type": "code",
      "metadata": {
        "trusted": true,
        "id": "CfaxF6fyrMJm",
        "colab_type": "code",
        "colab": {}
      },
      "source": [
        "BUFFER_SIZE = len(input_tensor_train)\n",
        "BATCH_SIZE = 64\n",
        "steps_per_epoch = len(input_tensor_train)//BATCH_SIZE\n",
        "embedding_dim = 256\n",
        "units = 1024\n",
        "vocab_inp_size = len(input_text_tokenizer.word_index)+1\n",
        "vocab_tar_size = len(target_text_tokenizer.word_index)+1\n",
        "\n",
        "dataset = tf.data.Dataset.from_tensor_slices((input_tensor_train, target_tensor_train)).shuffle(BUFFER_SIZE)\n",
        "dataset = dataset.batch(BATCH_SIZE, drop_remainder=True)"
      ],
      "execution_count": 0,
      "outputs": []
    },
    {
      "cell_type": "code",
      "metadata": {
        "trusted": true,
        "id": "6G0MK7tUrMJs",
        "colab_type": "code",
        "colab": {},
        "outputId": "49dbc2c9-b704-4794-a1eb-db9a435f3f9f"
      },
      "source": [
        "example_input_batch, example_target_batch = next(iter(dataset))\n",
        "example_input_batch.shape, example_target_batch.shape"
      ],
      "execution_count": 0,
      "outputs": [
        {
          "output_type": "execute_result",
          "data": {
            "text/plain": [
              "(TensorShape([64, 50]), TensorShape([64, 50]))"
            ]
          },
          "metadata": {
            "tags": []
          },
          "execution_count": 30
        }
      ]
    },
    {
      "cell_type": "code",
      "metadata": {
        "trusted": true,
        "id": "Mm9oZ4ijrMJz",
        "colab_type": "code",
        "colab": {}
      },
      "source": [
        "# building an enocder with a single gru layer\n",
        "class Encoder(tf.keras.Model):\n",
        "  def __init__(self, vocab_size, embedding_dim, enc_units, batch_sz):\n",
        "    super(Encoder, self).__init__()\n",
        "    self.batch_sz = batch_sz\n",
        "    self.enc_units = enc_units\n",
        "    self.embedding = tf.keras.layers.Embedding(vocab_size, embedding_dim)\n",
        "    self.gru = tf.keras.layers.GRU(self.enc_units,\n",
        "                                   return_sequences=True,\n",
        "                                   return_state=True,\n",
        "                                   recurrent_initializer='glorot_uniform')\n",
        "\n",
        "  def call(self, x, hidden):\n",
        "    x = self.embedding(x)\n",
        "    output, state = self.gru(x, initial_state = hidden)\n",
        "    return output, state\n",
        "\n",
        "  def initialize_hidden_state(self):\n",
        "    return tf.zeros((self.batch_sz, self.enc_units))"
      ],
      "execution_count": 0,
      "outputs": []
    },
    {
      "cell_type": "code",
      "metadata": {
        "trusted": true,
        "id": "SX92TbXurMKB",
        "colab_type": "code",
        "colab": {},
        "outputId": "fd153185-b731-4aa5-c834-82e3c5d4a7f7"
      },
      "source": [
        "encoder = Encoder(vocab_inp_size, embedding_dim, units, BATCH_SIZE)\n",
        "\n",
        "# sample input\n",
        "sample_hidden = encoder.initialize_hidden_state()\n",
        "sample_output, sample_hidden = encoder(example_input_batch, sample_hidden)\n",
        "print ('Encoder output shape: (batch size, sequence length, units) {}'.format(sample_output.shape))\n",
        "print ('Encoder Hidden state shape: (batch size, units) {}'.format(sample_hidden.shape))"
      ],
      "execution_count": 0,
      "outputs": [
        {
          "output_type": "stream",
          "text": [
            "Encoder output shape: (batch size, sequence length, units) (64, 50, 1024)\n",
            "Encoder Hidden state shape: (batch size, units) (64, 1024)\n"
          ],
          "name": "stdout"
        }
      ]
    },
    {
      "cell_type": "code",
      "metadata": {
        "trusted": true,
        "id": "0ZYBpclNrMKq",
        "colab_type": "code",
        "colab": {}
      },
      "source": [
        "# attention layer \n",
        "class BahdanauAttention(tf.keras.layers.Layer):\n",
        "  def __init__(self, units):\n",
        "    super(BahdanauAttention, self).__init__()\n",
        "    self.W1 = tf.keras.layers.Dense(units)\n",
        "    self.W2 = tf.keras.layers.Dense(units)\n",
        "    self.V = tf.keras.layers.Dense(1)\n",
        "\n",
        "  def call(self, query, values):\n",
        "    # hidden shape == (batch_size, hidden size)\n",
        "    # hidden_with_time_axis shape == (batch_size, 1, hidden size)\n",
        "    # we are doing this to perform addition to calculate the score\n",
        "    hidden_with_time_axis = tf.expand_dims(query, 1)\n",
        "\n",
        "    # score shape == (batch_size, max_length, 1)\n",
        "    # we get 1 at the last axis because we are applying score to self.V\n",
        "    # the shape of the tensor before applying self.V is (batch_size, max_length, units)\n",
        "    score = self.V(tf.nn.tanh(\n",
        "        self.W1(values) + self.W2(hidden_with_time_axis)))\n",
        "\n",
        "    # attention_weights shape == (batch_size, max_length, 1)\n",
        "    attention_weights = tf.nn.softmax(score, axis=1)\n",
        "\n",
        "    # context_vector shape after sum == (batch_size, hidden_size)\n",
        "    context_vector = attention_weights * values\n",
        "    context_vector = tf.reduce_sum(context_vector, axis=1)\n",
        "\n",
        "    return context_vector, attention_weights"
      ],
      "execution_count": 0,
      "outputs": []
    },
    {
      "cell_type": "code",
      "metadata": {
        "trusted": true,
        "id": "6nlNIWSWrMP8",
        "colab_type": "code",
        "colab": {},
        "outputId": "89d3989c-d91f-4e42-8150-eb3cfa25ed49"
      },
      "source": [
        "attention_layer = BahdanauAttention(10)\n",
        "attention_result, attention_weights = attention_layer(sample_hidden, sample_output)\n",
        "\n",
        "print(\"Attention result shape: (batch size, units) {}\".format(attention_result.shape))\n",
        "print(\"Attention weights shape: (batch_size, sequence_length, 1) {}\".format(attention_weights.shape))"
      ],
      "execution_count": 0,
      "outputs": [
        {
          "output_type": "stream",
          "text": [
            "Attention result shape: (batch size, units) (64, 1024)\n",
            "Attention weights shape: (batch_size, sequence_length, 1) (64, 50, 1)\n"
          ],
          "name": "stdout"
        }
      ]
    },
    {
      "cell_type": "code",
      "metadata": {
        "trusted": true,
        "id": "ml7eOmFNrMQA",
        "colab_type": "code",
        "colab": {}
      },
      "source": [
        "# decoder layer with single gru layer and dense layer\n",
        "class Decoder(tf.keras.Model):\n",
        "  def __init__(self, vocab_size, embedding_dim, dec_units, batch_sz):\n",
        "    super(Decoder, self).__init__()\n",
        "    self.batch_sz = batch_sz\n",
        "    self.dec_units = dec_units\n",
        "    self.embedding = tf.keras.layers.Embedding(vocab_size, embedding_dim)\n",
        "    self.gru = tf.keras.layers.GRU(self.dec_units,\n",
        "                                   return_sequences=True,\n",
        "                                   return_state=True,\n",
        "                                   recurrent_initializer='glorot_uniform')\n",
        "    self.fc = tf.keras.layers.Dense(vocab_size)\n",
        "\n",
        "    # used for attention\n",
        "    self.attention = BahdanauAttention(self.dec_units)\n",
        "\n",
        "  def call(self, x, hidden, enc_output):\n",
        "    # enc_output shape == (batch_size, max_length, hidden_size)\n",
        "    context_vector, attention_weights = self.attention(hidden, enc_output)\n",
        "\n",
        "    # x shape after passing through embedding == (batch_size, 1, embedding_dim)\n",
        "    x = self.embedding(x)\n",
        "\n",
        "    # x shape after concatenation == (batch_size, 1, embedding_dim + hidden_size)\n",
        "    x = tf.concat([tf.expand_dims(context_vector, 1), x], axis=-1)\n",
        "\n",
        "    # passing the concatenated vector to the GRU\n",
        "    output, state = self.gru(x)\n",
        "\n",
        "    # output shape == (batch_size * 1, hidden_size)\n",
        "    output = tf.reshape(output, (-1, output.shape[2]))\n",
        "\n",
        "    # output shape == (batch_size, vocab)\n",
        "    x = self.fc(output)\n",
        "\n",
        "    return x, state, attention_weights"
      ],
      "execution_count": 0,
      "outputs": []
    },
    {
      "cell_type": "code",
      "metadata": {
        "trusted": true,
        "id": "7gRJfhTCrMQE",
        "colab_type": "code",
        "colab": {},
        "outputId": "78d54461-2f29-4363-8d72-9c73d7891ba6"
      },
      "source": [
        "decoder = Decoder(vocab_tar_size, embedding_dim, units, BATCH_SIZE)\n",
        "\n",
        "sample_decoder_output, _, _ = decoder(tf.random.uniform((64, 1)),\n",
        "                                      sample_hidden, sample_output)\n",
        "\n",
        "print ('Decoder output shape: (batch_size, vocab size) {}'.format(sample_decoder_output.shape))"
      ],
      "execution_count": 0,
      "outputs": [
        {
          "output_type": "stream",
          "text": [
            "Decoder output shape: (batch_size, vocab size) (64, 4921)\n"
          ],
          "name": "stdout"
        }
      ]
    },
    {
      "cell_type": "code",
      "metadata": {
        "trusted": true,
        "id": "Sowf1nDMrMQJ",
        "colab_type": "code",
        "colab": {}
      },
      "source": [
        "# optimizer = adam and loss = sparsecategorical crossentropy\n",
        "optimizer = tf.keras.optimizers.Adam()\n",
        "loss_object = tf.keras.losses.SparseCategoricalCrossentropy(\n",
        "    from_logits=True, reduction='none')\n",
        "\n",
        "def loss_function(real, pred):\n",
        "  mask = tf.math.logical_not(tf.math.equal(real, 0))\n",
        "  loss_ = loss_object(real, pred)\n",
        "\n",
        "  mask = tf.cast(mask, dtype=loss_.dtype)\n",
        "  loss_ *= mask\n",
        "\n",
        "  return tf.reduce_mean(loss_)"
      ],
      "execution_count": 0,
      "outputs": []
    },
    {
      "cell_type": "code",
      "metadata": {
        "trusted": true,
        "id": "cT6KyfIcrMQM",
        "colab_type": "code",
        "colab": {}
      },
      "source": [
        "checkpoint_dir = './training_checkpoints'\n",
        "checkpoint_prefix = os.path.join(checkpoint_dir, \"ckpt\")\n",
        "checkpoint = tf.train.Checkpoint(optimizer=optimizer,\n",
        "                                 encoder=encoder,\n",
        "                                 decoder=decoder)"
      ],
      "execution_count": 0,
      "outputs": []
    },
    {
      "cell_type": "code",
      "metadata": {
        "trusted": true,
        "id": "UDAviQscrMQQ",
        "colab_type": "code",
        "colab": {}
      },
      "source": [
        "@tf.function\n",
        "def train_step(inp, targ, enc_hidden):\n",
        "  loss = 0\n",
        "\n",
        "  with tf.GradientTape() as tape:\n",
        "    enc_output, enc_hidden = encoder(inp, enc_hidden)\n",
        "\n",
        "    dec_hidden = enc_hidden\n",
        "\n",
        "    dec_input = tf.expand_dims([target_text_tokenizer.word_index['<start>']] * BATCH_SIZE, 1)\n",
        "\n",
        "    # Teacher forcing - feeding the target as the next input\n",
        "    for t in range(1, targ.shape[1]):\n",
        "      # passing enc_output to the decoder\n",
        "      predictions, dec_hidden, _ = decoder(dec_input, dec_hidden, enc_output)\n",
        "\n",
        "      loss += loss_function(targ[:, t], predictions)\n",
        "\n",
        "      # using teacher forcing\n",
        "      dec_input = tf.expand_dims(targ[:, t], 1)\n",
        "\n",
        "  batch_loss = (loss / int(targ.shape[1]))\n",
        "\n",
        "  variables = encoder.trainable_variables + decoder.trainable_variables\n",
        "\n",
        "  gradients = tape.gradient(loss, variables)\n",
        "\n",
        "  optimizer.apply_gradients(zip(gradients, variables))\n",
        "\n",
        "  return batch_loss"
      ],
      "execution_count": 0,
      "outputs": []
    },
    {
      "cell_type": "code",
      "metadata": {
        "trusted": true,
        "id": "Skphz7_yrMQU",
        "colab_type": "code",
        "colab": {},
        "outputId": "f3fe2e20-489c-4338-fc62-4c1e8576a022"
      },
      "source": [
        "EPOCHS = 25\n",
        "\n",
        "for epoch in range(EPOCHS):\n",
        "  start = time.time()\n",
        "\n",
        "  enc_hidden = encoder.initialize_hidden_state()\n",
        "  total_loss = 0\n",
        "\n",
        "  for (batch, (inp, targ)) in enumerate(dataset.take(steps_per_epoch)):\n",
        "    batch_loss = train_step(inp, targ, enc_hidden)\n",
        "    total_loss += batch_loss\n",
        "\n",
        "    if batch % 100 == 0:\n",
        "        print('Epoch {} Batch {} Loss {:.4f}'.format(epoch + 1,\n",
        "                                                     batch,\n",
        "                                                     batch_loss.numpy()))\n",
        "  # saving (checkpoint) the model every 2 epochs\n",
        "  if (epoch + 1) % 2 == 0:\n",
        "    checkpoint.save(file_prefix = checkpoint_prefix)\n",
        "\n",
        "  print('Epoch {} Loss {:.4f}'.format(epoch + 1,\n",
        "                                      total_loss / steps_per_epoch))\n",
        "  print('Time taken for 1 epoch {} sec\\n'.format(time.time() - start))"
      ],
      "execution_count": 0,
      "outputs": [
        {
          "output_type": "stream",
          "text": [
            "Epoch 1 Batch 0 Loss 2.8559\n",
            "Epoch 1 Batch 100 Loss 1.4243\n",
            "Epoch 1 Loss 1.6133\n",
            "Time taken for 1 epoch 135.87253093719482 sec\n",
            "\n",
            "Epoch 2 Batch 0 Loss 1.1578\n",
            "Epoch 2 Batch 100 Loss 1.0088\n",
            "Epoch 2 Loss 1.1998\n",
            "Time taken for 1 epoch 45.42839598655701 sec\n",
            "\n",
            "Epoch 3 Batch 0 Loss 1.1716\n",
            "Epoch 3 Batch 100 Loss 1.1786\n",
            "Epoch 3 Loss 1.0460\n",
            "Time taken for 1 epoch 45.09636974334717 sec\n",
            "\n",
            "Epoch 4 Batch 0 Loss 0.8880\n",
            "Epoch 4 Batch 100 Loss 0.8422\n",
            "Epoch 4 Loss 0.9640\n",
            "Time taken for 1 epoch 45.34975218772888 sec\n",
            "\n",
            "Epoch 5 Batch 0 Loss 0.7907\n",
            "Epoch 5 Batch 100 Loss 0.5977\n",
            "Epoch 5 Loss 0.9069\n",
            "Time taken for 1 epoch 45.063127279281616 sec\n",
            "\n",
            "Epoch 6 Batch 0 Loss 1.0154\n",
            "Epoch 6 Batch 100 Loss 0.8799\n",
            "Epoch 6 Loss 0.8595\n",
            "Time taken for 1 epoch 45.16994118690491 sec\n",
            "\n",
            "Epoch 7 Batch 0 Loss 0.7032\n",
            "Epoch 7 Batch 100 Loss 0.9435\n",
            "Epoch 7 Loss 0.8200\n",
            "Time taken for 1 epoch 44.93377232551575 sec\n",
            "\n",
            "Epoch 8 Batch 0 Loss 0.7308\n",
            "Epoch 8 Batch 100 Loss 0.8409\n",
            "Epoch 8 Loss 0.7867\n",
            "Time taken for 1 epoch 45.40943217277527 sec\n",
            "\n",
            "Epoch 9 Batch 0 Loss 0.7805\n",
            "Epoch 9 Batch 100 Loss 0.5214\n",
            "Epoch 9 Loss 0.7541\n",
            "Time taken for 1 epoch 45.015990257263184 sec\n",
            "\n",
            "Epoch 10 Batch 0 Loss 0.7001\n",
            "Epoch 10 Batch 100 Loss 0.7800\n",
            "Epoch 10 Loss 0.7239\n",
            "Time taken for 1 epoch 45.35679793357849 sec\n",
            "\n",
            "Epoch 11 Batch 0 Loss 0.6313\n",
            "Epoch 11 Batch 100 Loss 0.7045\n",
            "Epoch 11 Loss 0.6909\n",
            "Time taken for 1 epoch 44.916388511657715 sec\n",
            "\n",
            "Epoch 12 Batch 0 Loss 0.6301\n",
            "Epoch 12 Batch 100 Loss 0.6632\n",
            "Epoch 12 Loss 0.6574\n",
            "Time taken for 1 epoch 45.39161729812622 sec\n",
            "\n",
            "Epoch 13 Batch 0 Loss 0.4892\n",
            "Epoch 13 Batch 100 Loss 0.7146\n",
            "Epoch 13 Loss 0.6223\n",
            "Time taken for 1 epoch 45.02428150177002 sec\n",
            "\n",
            "Epoch 14 Batch 0 Loss 0.6103\n",
            "Epoch 14 Batch 100 Loss 0.6906\n",
            "Epoch 14 Loss 0.5872\n",
            "Time taken for 1 epoch 45.19532799720764 sec\n",
            "\n",
            "Epoch 15 Batch 0 Loss 0.5622\n",
            "Epoch 15 Batch 100 Loss 0.6993\n",
            "Epoch 15 Loss 0.5520\n",
            "Time taken for 1 epoch 44.9450888633728 sec\n",
            "\n",
            "Epoch 16 Batch 0 Loss 0.4577\n",
            "Epoch 16 Batch 100 Loss 0.4835\n",
            "Epoch 16 Loss 0.5146\n",
            "Time taken for 1 epoch 45.140751123428345 sec\n",
            "\n",
            "Epoch 17 Batch 0 Loss 0.3321\n",
            "Epoch 17 Batch 100 Loss 0.5187\n",
            "Epoch 17 Loss 0.4759\n",
            "Time taken for 1 epoch 44.85323166847229 sec\n",
            "\n",
            "Epoch 18 Batch 0 Loss 0.4031\n",
            "Epoch 18 Batch 100 Loss 0.4121\n",
            "Epoch 18 Loss 0.4392\n",
            "Time taken for 1 epoch 45.31136655807495 sec\n",
            "\n",
            "Epoch 19 Batch 0 Loss 0.4633\n",
            "Epoch 19 Batch 100 Loss 0.4508\n",
            "Epoch 19 Loss 0.4001\n",
            "Time taken for 1 epoch 44.88265299797058 sec\n",
            "\n",
            "Epoch 20 Batch 0 Loss 0.3894\n",
            "Epoch 20 Batch 100 Loss 0.3670\n",
            "Epoch 20 Loss 0.3620\n",
            "Time taken for 1 epoch 45.22808337211609 sec\n",
            "\n",
            "Epoch 21 Batch 0 Loss 0.2778\n",
            "Epoch 21 Batch 100 Loss 0.3453\n",
            "Epoch 21 Loss 0.3207\n",
            "Time taken for 1 epoch 44.890952825546265 sec\n",
            "\n",
            "Epoch 22 Batch 0 Loss 0.2883\n",
            "Epoch 22 Batch 100 Loss 0.3070\n",
            "Epoch 22 Loss 0.2824\n",
            "Time taken for 1 epoch 45.162431716918945 sec\n",
            "\n",
            "Epoch 23 Batch 0 Loss 0.2323\n",
            "Epoch 23 Batch 100 Loss 0.2203\n",
            "Epoch 23 Loss 0.2452\n",
            "Time taken for 1 epoch 44.950408697128296 sec\n",
            "\n",
            "Epoch 24 Batch 0 Loss 0.1681\n",
            "Epoch 24 Batch 100 Loss 0.2085\n",
            "Epoch 24 Loss 0.2111\n",
            "Time taken for 1 epoch 45.138591051101685 sec\n",
            "\n",
            "Epoch 25 Batch 0 Loss 0.1908\n",
            "Epoch 25 Batch 100 Loss 0.1650\n",
            "Epoch 25 Loss 0.1769\n",
            "Time taken for 1 epoch 45.09562563896179 sec\n",
            "\n"
          ],
          "name": "stdout"
        }
      ]
    },
    {
      "cell_type": "code",
      "metadata": {
        "trusted": true,
        "id": "Gba1-wo2rMQa",
        "colab_type": "code",
        "colab": {}
      },
      "source": [
        "def evaluate(sentence):\n",
        "  \n",
        "\n",
        "    sentence = clean_text(sentence)\n",
        "\n",
        "    inputs = [input_text_tokenizer.word_index[i] for i in sentence.split(' ')]\n",
        "    inputs = tf.keras.preprocessing.sequence.pad_sequences([inputs],\n",
        "                                                           maxlen=max_length_inp,\n",
        "                                                           padding='post')\n",
        "    inputs = tf.convert_to_tensor(inputs)\n",
        "\n",
        "    result = ''\n",
        "\n",
        "    hidden = [tf.zeros((1, units))]\n",
        "    enc_out, enc_hidden = encoder(inputs, hidden)\n",
        "\n",
        "    dec_hidden = enc_hidden\n",
        "    dec_input = tf.expand_dims([target_text_tokenizer.word_index['<start>']], 0)\n",
        "\n",
        "    for t in range(max_length_targ):\n",
        "        predictions, dec_hidden, attention_weights = decoder(dec_input,\n",
        "                                                             dec_hidden,\n",
        "                                                             enc_out)\n",
        "\n",
        "\n",
        "        predicted_id = tf.argmax(predictions[0]).numpy()\n",
        "\n",
        "        result += target_text_tokenizer.index_word[predicted_id] + ' '\n",
        "\n",
        "        if target_text_tokenizer.index_word[predicted_id] == '<end>':\n",
        "            return result, sentence \n",
        "\n",
        "        # the predicted ID is fed back into the model\n",
        "        dec_input = tf.expand_dims([predicted_id], 0)\n",
        "\n",
        "    return result, sentence "
      ],
      "execution_count": 0,
      "outputs": []
    },
    {
      "cell_type": "code",
      "metadata": {
        "trusted": true,
        "id": "q1cb7YqyrMQd",
        "colab_type": "code",
        "colab": {}
      },
      "source": [
        "def query(sentence):\n",
        "    result, sentence = evaluate(sentence)\n",
        "\n",
        "    print('Input: %s' % (sentence))\n",
        "    print('Predicted response: {}'.format(result))\n",
        "\n",
        "    "
      ],
      "execution_count": 0,
      "outputs": []
    },
    {
      "cell_type": "code",
      "metadata": {
        "trusted": true,
        "id": "klTyW8evrMQh",
        "colab_type": "code",
        "colab": {},
        "outputId": "c1f430e4-f670-4253-cef1-98a8e5c6683d"
      },
      "source": [
        "query('hi')"
      ],
      "execution_count": 0,
      "outputs": [
        {
          "output_type": "stream",
          "text": [
            "Input: <start> hi <end>\n",
            "Predicted response: hello <end> \n"
          ],
          "name": "stdout"
        }
      ]
    },
    {
      "cell_type": "code",
      "metadata": {
        "trusted": true,
        "id": "PU7eNPXjrMQm",
        "colab_type": "code",
        "colab": {},
        "outputId": "9c13f2cb-f2b3-4408-fb43-59369b681232"
      },
      "source": [
        "query('i want to travel , book a ticket')"
      ],
      "execution_count": 0,
      "outputs": [
        {
          "output_type": "stream",
          "text": [
            "Input: <start> i want to travel book a ticket <end>\n",
            "Predicted response: where will you be going on your own <end> \n"
          ],
          "name": "stdout"
        }
      ]
    },
    {
      "cell_type": "code",
      "metadata": {
        "trusted": true,
        "id": "VlZpXfk-rMQq",
        "colab_type": "code",
        "colab": {},
        "outputId": "796cdd6c-56a5-4d86-c6db-1801debff64f"
      },
      "source": [
        "query('are any hotels available')"
      ],
      "execution_count": 0,
      "outputs": [
        {
          "output_type": "stream",
          "text": [
            "Input: <start> i want to leave today <end>\n",
            "Predicted response: i have no flights operating out of kabul is there somewhere else you would like to leave from <end> \n"
          ],
          "name": "stdout"
        }
      ]
    },
    {
      "cell_type": "code",
      "metadata": {
        "trusted": true,
        "id": "FRYPdidjrMQs",
        "colab_type": "code",
        "colab": {},
        "outputId": "22b55cc2-55e8-4aeb-ed62-465e2bbefd8e"
      },
      "source": [
        "query('book a ticket')"
      ],
      "execution_count": 0,
      "outputs": [
        {
          "output_type": "stream",
          "text": [
            "Input: <start> book a ticket <end>\n",
            "Predicted response: sure thing where would you like to go for <end> \n"
          ],
          "name": "stdout"
        }
      ]
    },
    {
      "cell_type": "code",
      "metadata": {
        "trusted": true,
        "id": "Vx7iA_R5rMQ0",
        "colab_type": "code",
        "colab": {},
        "outputId": "f903d1fd-d797-4063-ccc5-181d4638e597"
      },
      "source": [
        "query('thank you')"
      ],
      "execution_count": 0,
      "outputs": [
        {
          "output_type": "stream",
          "text": [
            "Input: <start> thank you <end>\n",
            "Predicted response: you are welcome <end> \n"
          ],
          "name": "stdout"
        }
      ]
    },
    {
      "cell_type": "markdown",
      "metadata": {
        "id": "P5ysvG-LrxZE",
        "colab_type": "text"
      },
      "source": [
        "i guess the bot can make a sense of the query by the user and gives sort of appropriate response"
      ]
    }
  ]
}